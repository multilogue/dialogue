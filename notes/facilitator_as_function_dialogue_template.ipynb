{
 "cells": [
  {
   "cell_type": "markdown",
   "metadata": {},
   "source": [
    "# Facilitator as function Dialogue Template"
   ]
  },
  {
   "cell_type": "code",
   "execution_count": 1,
   "metadata": {
    "ExecuteTime": {
     "end_time": "2023-07-27T20:03:09.527440260Z",
     "start_time": "2023-07-27T20:03:09.374692494Z"
    }
   },
   "outputs": [],
   "source": [
    "from os.path import dirname\n",
    "import sys\n",
    "from dotenv import load_dotenv, find_dotenv\n",
    "sys.path.append(dirname(find_dotenv()))\n",
    "load_dotenv()\n",
    "\"\"\"OPENAI_API_KEY or OPENAI_API_KEY_PATH,\n",
    "OPENAI_ORGANIZATION can be set... or not.\n",
    "The properly named environment variables are loaded\n",
    "into the OpenAI library by its' __init__\"\"\"\n",
    "import openai\n",
    "from json import loads, dumps\n",
    "from participants import Facilitator"
   ]
  },
  {
   "cell_type": "markdown",
   "metadata": {},
   "source": [
    "## Entities participating in this conversation"
   ]
  },
  {
   "cell_type": "code",
   "execution_count": 2,
   "metadata": {
    "ExecuteTime": {
     "end_time": "2023-07-27T20:03:15.200318538Z",
     "start_time": "2023-07-27T20:03:15.182500209Z"
    }
   },
   "outputs": [],
   "source": [
    "facilitator_definition = {\n",
    "    'name': 'Alex',         # name\n",
    "    'role': 'facilitator',  # role in the dialogue\n",
    "    'instructions': '',     # The facilitator is a human by definition.\n",
    "    'functions': [],        # no functions\n",
    "    'python_code': '',      # no Python code\n",
    "    'thesis': '',\n",
    "    'antithesis': '',\n",
    "    'facts': [],\n",
    "    'presuppositions': [],\n",
    "    'assumptions': [],\n",
    "    'utterance': ''\n",
    "}\n",
    "facilitator = Facilitator(**facilitator_definition)\n",
    "facilitator"
   ]
  },
  {
   "cell_type": "code",
   "execution_count": 3,
   "outputs": [
    {
     "data": {
      "text/plain": "Alex, facilitator"
     },
     "execution_count": 3,
     "metadata": {},
     "output_type": "execute_result"
    }
   ],
   "source": [
    "functions = "
   ],
   "metadata": {
    "collapsed": false,
    "ExecuteTime": {
     "end_time": "2023-07-27T20:03:21.699000220Z",
     "start_time": "2023-07-27T20:03:21.676087482Z"
    }
   }
  },
  {
   "cell_type": "code",
   "execution_count": 4,
   "outputs": [],
   "source": [
    "# Meta context\n",
    "\n",
    "context = {\n",
    "    'world': 'real world'\n",
    "}"
   ],
   "metadata": {
    "collapsed": false,
    "ExecuteTime": {
     "end_time": "2023-07-27T20:03:37.975593067Z",
     "start_time": "2023-07-27T20:03:37.964771956Z"
    }
   }
  },
  {
   "cell_type": "code",
   "execution_count": 5,
   "outputs": [],
   "source": [
    "general_instructions = {\n",
    "        \"role\": \"system\",\n",
    "        \"content\": f'Generate only the short answers to questions with no introductory text and conclusion text. Address users by name in your responses, indicating who of them you are responding to.'\n",
    "}"
   ],
   "metadata": {
    "collapsed": false,
    "ExecuteTime": {
     "end_time": "2023-07-27T20:03:41.680014950Z",
     "start_time": "2023-07-27T20:03:41.625242625Z"
    }
   }
  },
  {
   "cell_type": "code",
   "execution_count": 6,
   "outputs": [],
   "source": [
    "# Construct the utterance\n",
    "\n",
    "facilitator.utterance = f'Can human nature be changed?'"
   ],
   "metadata": {
    "collapsed": false,
    "ExecuteTime": {
     "end_time": "2023-07-27T20:03:48.820684394Z",
     "start_time": "2023-07-27T20:03:48.795381978Z"
    }
   }
  },
  {
   "cell_type": "code",
   "execution_count": 13,
   "outputs": [],
   "source": [
    "# Construct the messages\n",
    "\n",
    "messages = [\n",
    "    general_instructions,\n",
    "    {\n",
    "        \"role\": \"user\",\n",
    "        \"name\":f'{facilitator.name}',\n",
    "        \"content\": f'{facilitator.utterance}'\n",
    "    }\n",
    "]"
   ],
   "metadata": {
    "collapsed": false,
    "ExecuteTime": {
     "end_time": "2023-07-27T20:47:27.293137372Z",
     "start_time": "2023-07-27T20:47:27.232010758Z"
    }
   }
  },
  {
   "cell_type": "code",
   "execution_count": 14,
   "metadata": {
    "ExecuteTime": {
     "end_time": "2023-07-27T20:47:32.868528868Z",
     "start_time": "2023-07-27T20:47:30.969085851Z"
    }
   },
   "outputs": [],
   "source": [
    "response = openai.ChatCompletion.create(\n",
    "    model=\"gpt-3.5-turbo-0613\",\n",
    "    messages=messages,\n",
    "    top_p=0.9,\n",
    "    n=5,\n",
    "    max_tokens=4000,\n",
    "    presence_penalty=2.0,\n",
    "    frequency_penalty=2.0\n",
    ")"
   ]
  },
  {
   "cell_type": "code",
   "execution_count": 33,
   "metadata": {
    "ExecuteTime": {
     "end_time": "2023-07-27T21:19:15.805905658Z",
     "start_time": "2023-07-27T21:19:10.646840262Z"
    }
   },
   "outputs": [
    {
     "name": "stdout",
     "output_type": "stream",
     "text": [
      "get_answer_from_facilitator\n",
      "question: Do you prefer the 'yes' answer or the 'no' answer?\n",
      "reason: To determine the facilitator's preference\n",
      "answer: no\n"
     ]
    }
   ],
   "source": [
    "response_messages = list()\n",
    "\n",
    "for num, choice in enumerate(response[\"choices\"]):\n",
    "    message = choice[\"message\"]\n",
    "    content = message.to_dict_recursive()\n",
    "    print(num, \" --  \", dumps(content, indent=2))\n",
    "    response_messages.append(message)"
   ]
  },
  {
   "cell_type": "code",
   "execution_count": 29,
   "outputs": [
    {
     "ename": "SyntaxError",
     "evalue": "expected ':' (52466339.py, line 1)",
     "output_type": "error",
     "traceback": [
      "\u001B[0;36m  Cell \u001B[0;32mIn[29], line 1\u001B[0;36m\u001B[0m\n\u001B[0;31m    if response_messages[0]\u001B[0m\n\u001B[0m                           ^\u001B[0m\n\u001B[0;31mSyntaxError\u001B[0m\u001B[0;31m:\u001B[0m expected ':'\n"
     ]
    }
   ],
   "source": [],
   "metadata": {
    "collapsed": false,
    "ExecuteTime": {
     "end_time": "2023-07-27T21:10:40.814584168Z",
     "start_time": "2023-07-27T21:10:40.766988055Z"
    }
   }
  }
 ],
 "metadata": {
  "kernelspec": {
   "display_name": "Python 3 (ipykernel)",
   "language": "python",
   "name": "python3"
  },
  "language_info": {
   "codemirror_mode": {
    "name": "ipython",
    "version": 3
   },
   "file_extension": ".py",
   "mimetype": "text/x-python",
   "name": "python",
   "nbconvert_exporter": "python",
   "pygments_lexer": "ipython3",
   "version": "3.10.6"
  }
 },
 "nbformat": 4,
 "nbformat_minor": 1
}
