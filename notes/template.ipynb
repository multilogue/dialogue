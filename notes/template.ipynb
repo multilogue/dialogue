{
 "cells": [
  {
   "cell_type": "markdown",
   "source": [
    "# Dialogue Template"
   ],
   "metadata": {
    "collapsed": false
   }
  },
  {
   "cell_type": "code",
   "execution_count": 8,
   "outputs": [],
   "source": [
    "from os.path import dirname\n",
    "import sys\n",
    "from dotenv import load_dotenv, find_dotenv\n",
    "sys.path.append(dirname(find_dotenv()))\n",
    "load_dotenv()\n",
    "\"\"\"OPENAI_API_KEY or OPENAI_API_KEY_PATH,\n",
    "OPENAI_ORGANIZATION can be set... or not.\n",
    "The properly named environment variables are loaded\n",
    "into the OpenAI library by its' __init__\"\"\"\n",
    "import openai\n",
    "from json import loads, dumps"
   ],
   "metadata": {
    "collapsed": false,
    "ExecuteTime": {
     "end_time": "2023-07-04T16:21:36.192746733Z",
     "start_time": "2023-07-04T16:21:36.136165186Z"
    }
   }
  },
  {
   "cell_type": "markdown",
   "source": [
    "## Conversation"
   ],
   "metadata": {
    "collapsed": false
   }
  },
  {
   "cell_type": "code",
   "execution_count": 9,
   "outputs": [],
   "source": [
    "context = {\n",
    "\n",
    "}"
   ],
   "metadata": {
    "collapsed": false,
    "ExecuteTime": {
     "end_time": "2023-07-04T16:21:38.048402377Z",
     "start_time": "2023-07-04T16:21:38.032009978Z"
    }
   }
  },
  {
   "cell_type": "code",
   "execution_count": 10,
   "outputs": [],
   "source": [
    "statement = \"\"\"What's the weather like in Chicago, IL?\"\"\"\n",
    "who = 'Alex'"
   ],
   "metadata": {
    "collapsed": false,
    "ExecuteTime": {
     "end_time": "2023-07-04T16:21:39.434229599Z",
     "start_time": "2023-07-04T16:21:39.419301552Z"
    }
   }
  },
  {
   "cell_type": "code",
   "execution_count": 11,
   "outputs": [],
   "source": [
    "messages = [\n",
    "    {\n",
    "        \"role\": \"user\",\n",
    "        \"name\":f'{who}',\n",
    "        \"content\": f'{statement}'\n",
    "    }\n",
    "]"
   ],
   "metadata": {
    "collapsed": false,
    "ExecuteTime": {
     "end_time": "2023-07-04T16:21:42.451476827Z",
     "start_time": "2023-07-04T16:21:42.445127784Z"
    }
   }
  },
  {
   "cell_type": "code",
   "execution_count": 12,
   "outputs": [],
   "source": [
    "functions = [\n",
    "    {\n",
    "        \"name\": \"get_current_weather\",\n",
    "        \"description\": \"Get the current weather in a given location\",\n",
    "        \"parameters\": {\n",
    "            \"type\": \"object\",\n",
    "            \"properties\": {\n",
    "                \"location\": {\n",
    "                    \"type\": \"string\",\n",
    "                    \"description\": \"The city and state, e.g. San Francisco, CA\",\n",
    "                },\n",
    "                \"unit\": {\"type\": \"string\", \"enum\": [\"celsius\", \"fahrenheit\"]},\n",
    "            },\n",
    "            \"required\": [\"location\"],\n",
    "        },\n",
    "    }\n",
    "]"
   ],
   "metadata": {
    "collapsed": false,
    "ExecuteTime": {
     "end_time": "2023-07-04T16:21:43.432664275Z",
     "start_time": "2023-07-04T16:21:43.423831622Z"
    }
   }
  },
  {
   "cell_type": "code",
   "execution_count": 13,
   "outputs": [],
   "source": [
    "response = openai.ChatCompletion.create(\n",
    "    model=\"gpt-3.5-turbo-0613\",\n",
    "    messages=messages,\n",
    "    functions=functions,\n",
    "    function_call=\"auto\",  # auto is default\n",
    ")"
   ],
   "metadata": {
    "collapsed": false,
    "ExecuteTime": {
     "end_time": "2023-07-04T16:21:46.356343810Z",
     "start_time": "2023-07-04T16:21:44.862428711Z"
    }
   }
  },
  {
   "cell_type": "code",
   "execution_count": 15,
   "outputs": [
    {
     "name": "stdout",
     "output_type": "stream",
     "text": [
      "0 {\n",
      "  \"role\": \"assistant\",\n",
      "  \"content\": null,\n",
      "  \"function_call\": {\n",
      "    \"name\": \"get_current_weather\",\n",
      "    \"arguments\": \"{\\n\\\"location\\\": \\\"Chicago, IL\\\"\\n}\"\n",
      "  }\n",
      "}\n"
     ]
    }
   ],
   "source": [
    "response_messages = list()\n",
    "\n",
    "for num, choice in enumerate(response[\"choices\"]):\n",
    "    message = choice[\"message\"]\n",
    "    content = message.to_dict_recursive()\n",
    "    print(num, \" --  \", dumps(content, indent=2))\n",
    "    response_messages.append(message)"
   ],
   "metadata": {
    "collapsed": false
   }
  },
  {
   "cell_type": "code",
   "execution_count": null,
   "outputs": [],
   "source": [
    "choices_to_keep = list()\n",
    "l = input('Which choices to keep? enter a comma separated list').split(sep=',')"
   ],
   "metadata": {
    "collapsed": false
   }
  }
 ],
 "metadata": {
  "kernelspec": {
   "display_name": "Python 3",
   "language": "python",
   "name": "python3"
  },
  "language_info": {
   "codemirror_mode": {
    "name": "ipython",
    "version": 2
   },
   "file_extension": ".py",
   "mimetype": "text/x-python",
   "name": "python",
   "nbconvert_exporter": "python",
   "pygments_lexer": "ipython2",
   "version": "2.7.6"
  }
 },
 "nbformat": 4,
 "nbformat_minor": 0
}
