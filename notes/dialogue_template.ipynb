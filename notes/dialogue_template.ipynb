{
 "cells": [
  {
   "cell_type": "markdown",
   "metadata": {},
   "source": [
    "# Dialogue Template"
   ]
  },
  {
   "cell_type": "code",
   "execution_count": 9,
   "metadata": {
    "ExecuteTime": {
     "end_time": "2023-07-27T15:27:02.086049060Z",
     "start_time": "2023-07-27T15:27:02.062243173Z"
    }
   },
   "outputs": [],
   "source": [
    "from os.path import dirname\n",
    "import sys\n",
    "from dotenv import load_dotenv, find_dotenv\n",
    "sys.path.append(dirname(find_dotenv()))\n",
    "load_dotenv()\n",
    "\"\"\"OPENAI_API_KEY or OPENAI_API_KEY_PATH,\n",
    "OPENAI_ORGANIZATION can be set... or not.\n",
    "The properly named environment variables are loaded\n",
    "into the OpenAI library by its' __init__\"\"\"\n",
    "import openai\n",
    "from json import loads, dumps\n",
    "from participants import Facilitator"
   ]
  },
  {
   "cell_type": "markdown",
   "metadata": {},
   "source": [
    "## Entities participating in this conversation"
   ]
  },
  {
   "cell_type": "code",
   "execution_count": 10,
   "metadata": {
    "ExecuteTime": {
     "end_time": "2023-07-27T15:27:05.806785707Z",
     "start_time": "2023-07-27T15:27:05.795694626Z"
    }
   },
   "outputs": [
    {
     "data": {
      "text/plain": "Alex, facilitator"
     },
     "execution_count": 10,
     "metadata": {},
     "output_type": "execute_result"
    }
   ],
   "source": [
    "keyword_arguments = {\n",
    "    'name': 'Alex',         # name \n",
    "    'role': 'facilitator',  # role in the dialogue\n",
    "    'instructions': '',     # The facilitator is a human by definition.\n",
    "    'functions': '',        # no functions\n",
    "    'python_code': '',      # no Python code\n",
    "    'thesis': '',\n",
    "    'antithesis': '',\n",
    "    'facts': [],\n",
    "    'presuppositions': [],\n",
    "    'conversation': [],\n",
    "    'utterance': ''\n",
    "}\n",
    "facilitator = Facilitator(**keyword_arguments)\n",
    "facilitator"
   ]
  },
  {
   "cell_type": "code",
   "execution_count": 11,
   "outputs": [],
   "source": [
    "context = {\n",
    "    'world': 'real world'\n",
    "}"
   ],
   "metadata": {
    "collapsed": false,
    "ExecuteTime": {
     "end_time": "2023-07-27T15:27:08.514713629Z",
     "start_time": "2023-07-27T15:27:08.506624498Z"
    }
   }
  },
  {
   "cell_type": "code",
   "execution_count": 13,
   "metadata": {
    "ExecuteTime": {
     "end_time": "2023-07-27T15:27:32.074557037Z",
     "start_time": "2023-07-27T15:27:32.032907957Z"
    }
   },
   "outputs": [],
   "source": [
    "messages = [\n",
    "    {\n",
    "        \"role\": \"user\",\n",
    "        \"name\":f'{facilitator.name}',\n",
    "        \"content\": f'{facilitator.utterance}'\n",
    "    }\n",
    "]"
   ]
  },
  {
   "cell_type": "code",
   "execution_count": 14,
   "metadata": {
    "ExecuteTime": {
     "end_time": "2023-07-27T15:27:33.221297718Z",
     "start_time": "2023-07-27T15:27:33.178107658Z"
    }
   },
   "outputs": [],
   "source": [
    "functions = [\n",
    "    {\n",
    "        \"name\": \"get_current_weather\",\n",
    "        \"description\": \"Get the current weather in a given location\",\n",
    "        \"parameters\": {\n",
    "            \"type\": \"object\",\n",
    "            \"properties\": {\n",
    "                \"location\": {\n",
    "                    \"type\": \"string\",\n",
    "                    \"description\": \"The city and state, e.g. San Francisco, CA\",\n",
    "                },\n",
    "                \"unit\": {\"type\": \"string\", \"enum\": [\"celsius\", \"fahrenheit\"]},\n",
    "            },\n",
    "            \"required\": [\"location\"],\n",
    "        },\n",
    "    }\n",
    "]"
   ]
  },
  {
   "cell_type": "code",
   "execution_count": 15,
   "metadata": {
    "ExecuteTime": {
     "end_time": "2023-07-27T15:27:36.285289521Z",
     "start_time": "2023-07-27T15:27:36.253540887Z"
    }
   },
   "outputs": [],
   "source": [
    "response = openai.ChatCompletion.create(\n",
    "    model=\"gpt-3.5-turbo-0613\",\n",
    "    messages=messages,\n",
    "    functions=functions,\n",
    "    function_call=\"auto\",  # auto is default\n",
    ")"
   ]
  },
  {
   "cell_type": "code",
   "execution_count": 16,
   "metadata": {
    "ExecuteTime": {
     "end_time": "2023-07-27T15:27:40.073062083Z",
     "start_time": "2023-07-27T15:27:38.332008605Z"
    }
   },
   "outputs": [],
   "source": [
    "response_messages = list()\n",
    "\n",
    "for num, choice in enumerate(response[\"choices\"]):\n",
    "    message = choice[\"message\"]\n",
    "    content = message.to_dict_recursive()\n",
    "    print(num, \" --  \", dumps(content, indent=2))\n",
    "    response_messages.append(message)"
   ]
  },
  {
   "cell_type": "code",
   "execution_count": 17,
   "metadata": {
    "ExecuteTime": {
     "end_time": "2023-07-27T15:27:42.460335820Z",
     "start_time": "2023-07-27T15:27:42.452195568Z"
    }
   },
   "outputs": [
    {
     "name": "stdout",
     "output_type": "stream",
     "text": [
      "0  --   {\n",
      "  \"role\": \"assistant\",\n",
      "  \"content\": \"Yes, human nature can be changed to some extent.\"\n",
      "}\n",
      "1  --   {\n",
      "  \"role\": \"assistant\",\n",
      "  \"content\": \"No, human nature cannot be changed.\"\n",
      "}\n",
      "2  --   {\n",
      "  \"role\": \"assistant\",\n",
      "  \"content\": \"Yes, human nature can be changed to some extent through personal growth and development. However, there are certain inherent traits that may be more difficult to alter significantly.\"\n",
      "}\n",
      "3  --   {\n",
      "  \"role\": \"assistant\",\n",
      "  \"content\": \"Yes, human nature can be changed to some extent. However, it is a complex process that requires individual effort and collective action.\"\n",
      "}\n",
      "4  --   {\n",
      "  \"role\": \"assistant\",\n",
      "  \"content\": \"Yes, it is possible for human nature to change. However, changing one's fundamental nature can be a complex and gradual process.\"\n",
      "}\n",
      "5  --   {\n",
      "  \"role\": \"assistant\",\n",
      "  \"content\": \"Yes, human nature can change over time.\"\n",
      "}\n",
      "6  --   {\n",
      "  \"role\": \"assistant\",\n",
      "  \"content\": \"Yes, it is possible for human nature to change.\"\n",
      "}\n"
     ]
    }
   ],
   "source": [
    "choices_to_keep = list()\n",
    "l = input('Which choices to keep? enter a comma separated list').split(sep=',')"
   ]
  }
 ],
 "metadata": {
  "kernelspec": {
   "display_name": "Python 3 (ipykernel)",
   "language": "python",
   "name": "python3"
  },
  "language_info": {
   "codemirror_mode": {
    "name": "ipython",
    "version": 3
   },
   "file_extension": ".py",
   "mimetype": "text/x-python",
   "name": "python",
   "nbconvert_exporter": "python",
   "pygments_lexer": "ipython3",
   "version": "3.10.6"
  }
 },
 "nbformat": 4,
 "nbformat_minor": 1
}
