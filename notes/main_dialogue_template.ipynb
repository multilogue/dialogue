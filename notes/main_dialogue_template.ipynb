{
 "cells": [
  {
   "cell_type": "markdown",
   "metadata": {},
   "source": [
    "# Dialogue Template"
   ]
  },
  {
   "cell_type": "code",
   "execution_count": 1,
   "metadata": {
    "ExecuteTime": {
     "end_time": "2023-07-27T15:51:11.516125983Z",
     "start_time": "2023-07-27T15:51:11.422474261Z"
    }
   },
   "outputs": [],
   "source": [
    "from os.path import dirname\n",
    "import sys\n",
    "from dotenv import load_dotenv, find_dotenv\n",
    "sys.path.append(dirname(find_dotenv()))\n",
    "load_dotenv()\n",
    "\"\"\"OPENAI_API_KEY or OPENAI_API_KEY_PATH,\n",
    "OPENAI_ORGANIZATION can be set... or not.\n",
    "The properly named environment variables are loaded\n",
    "into the OpenAI library by its' __init__\"\"\"\n",
    "import openai\n",
    "from json import loads, dumps\n",
    "from participants import Facilitator"
   ]
  },
  {
   "cell_type": "markdown",
   "metadata": {},
   "source": [
    "## Entities participating in this conversation"
   ]
  },
  {
   "cell_type": "code",
   "execution_count": 2,
   "metadata": {
    "ExecuteTime": {
     "end_time": "2023-07-27T15:51:14.936410718Z",
     "start_time": "2023-07-27T15:51:14.913621470Z"
    }
   },
   "outputs": [
    {
     "data": {
      "text/plain": "Alex, facilitator"
     },
     "execution_count": 2,
     "metadata": {},
     "output_type": "execute_result"
    }
   ],
   "source": [
    "facilitator_definition = {\n",
    "    'name': 'Alex',         # name\n",
    "    'role': 'facilitator',  # role in the dialogue\n",
    "    'instructions': '',     # The facilitator is a human by definition.\n",
    "    'functions': [],        # no functions\n",
    "    'python_code': '',      # no Python code\n",
    "    'thesis': '',\n",
    "    'antithesis': '',\n",
    "    'facts': [],\n",
    "    'presuppositions': [],\n",
    "    'assumptions': [],\n",
    "    'utterance': ''\n",
    "}\n",
    "facilitator = Facilitator(**facilitator_definition)\n",
    "facilitator"
   ]
  },
  {
   "cell_type": "code",
   "execution_count": 3,
   "outputs": [],
   "source": [
    "# Meta context\n",
    "\n",
    "context = {\n",
    "    'world': 'real world'\n",
    "}"
   ],
   "metadata": {
    "collapsed": false,
    "ExecuteTime": {
     "end_time": "2023-07-27T15:51:17.274161721Z",
     "start_time": "2023-07-27T15:51:17.235405291Z"
    }
   }
  },
  {
   "cell_type": "code",
   "execution_count": 9,
   "outputs": [],
   "source": [
    "general_instructions = {\n",
    "        \"role\": \"system\",\n",
    "        \"content\": f'Generate only the short answers to questions with no introductory text and conclusion text. Address users by name in your responses, indicating who of them you are responding to.'\n",
    "}"
   ],
   "metadata": {
    "collapsed": false,
    "ExecuteTime": {
     "end_time": "2023-07-27T15:52:55.220192904Z",
     "start_time": "2023-07-27T15:52:55.173268280Z"
    }
   }
  },
  {
   "cell_type": "code",
   "execution_count": 10,
   "outputs": [],
   "source": [
    "# Construct the utterance\n",
    "\n",
    "facilitator.utterance = f'Can human nature be changed?'"
   ],
   "metadata": {
    "collapsed": false,
    "ExecuteTime": {
     "end_time": "2023-07-27T15:52:58.087785278Z",
     "start_time": "2023-07-27T15:52:58.063299572Z"
    }
   }
  },
  {
   "cell_type": "code",
   "execution_count": 11,
   "outputs": [],
   "source": [
    "# Construct the messages\n",
    "\n",
    "messages = [\n",
    "    general_instructions,\n",
    "    {\n",
    "        \"role\": \"user\",\n",
    "        \"name\":f'{facilitator.name}',\n",
    "        \"content\": f'{facilitator.utterance}'\n",
    "    }\n",
    "]"
   ],
   "metadata": {
    "collapsed": false,
    "ExecuteTime": {
     "end_time": "2023-07-27T15:52:59.626839456Z",
     "start_time": "2023-07-27T15:52:59.609808095Z"
    }
   }
  },
  {
   "cell_type": "code",
   "execution_count": 14,
   "metadata": {
    "ExecuteTime": {
     "end_time": "2023-07-27T15:54:35.690842229Z",
     "start_time": "2023-07-27T15:54:34.042433814Z"
    }
   },
   "outputs": [],
   "source": [
    "response = openai.ChatCompletion.create(\n",
    "    model=\"gpt-3.5-turbo-0613\",\n",
    "    messages=messages,\n",
    "    top_p=0.9,\n",
    "    n=7,\n",
    "    max_tokens=4000,\n",
    "    presence_penalty=1.0,\n",
    "    frequency_penalty=2.0\n",
    ")"
   ]
  },
  {
   "cell_type": "code",
   "execution_count": 15,
   "metadata": {
    "ExecuteTime": {
     "end_time": "2023-07-27T15:54:36.960713014Z",
     "start_time": "2023-07-27T15:54:36.922267171Z"
    }
   },
   "outputs": [
    {
     "name": "stdout",
     "output_type": "stream",
     "text": [
      "0  --   {\n",
      "  \"role\": \"assistant\",\n",
      "  \"content\": \"No, human nature cannot be changed.\"\n",
      "}\n",
      "1  --   {\n",
      "  \"role\": \"assistant\",\n",
      "  \"content\": \"Yes, it is possible for human nature to change.\"\n",
      "}\n",
      "2  --   {\n",
      "  \"role\": \"assistant\",\n",
      "  \"content\": \"No.\"\n",
      "}\n",
      "3  --   {\n",
      "  \"role\": \"assistant\",\n",
      "  \"content\": \"Yes, human nature can change to some extent.\"\n",
      "}\n",
      "4  --   {\n",
      "  \"role\": \"assistant\",\n",
      "  \"content\": \"Yes, human nature can be changed to some extent through personal growth and development. However, it is important to note that certain core aspects of human nature may remain consistent over time.\"\n",
      "}\n",
      "5  --   {\n",
      "  \"role\": \"assistant\",\n",
      "  \"content\": \"Yes, human nature can be changed to some extent. However, it is important to note that certain core aspects of human nature are likely to remain consistent.\"\n",
      "}\n",
      "6  --   {\n",
      "  \"role\": \"assistant\",\n",
      "  \"content\": \"No.\"\n",
      "}\n"
     ]
    }
   ],
   "source": [
    "response_messages = list()\n",
    "\n",
    "for num, choice in enumerate(response[\"choices\"]):\n",
    "    message = choice[\"message\"]\n",
    "    content = message.to_dict_recursive()\n",
    "    print(num, \" --  \", dumps(content, indent=2))\n",
    "    response_messages.append(message)"
   ]
  },
  {
   "cell_type": "code",
   "execution_count": null,
   "outputs": [],
   "source": [],
   "metadata": {
    "collapsed": false
   }
  }
 ],
 "metadata": {
  "kernelspec": {
   "display_name": "Python 3 (ipykernel)",
   "language": "python",
   "name": "python3"
  },
  "language_info": {
   "codemirror_mode": {
    "name": "ipython",
    "version": 3
   },
   "file_extension": ".py",
   "mimetype": "text/x-python",
   "name": "python",
   "nbconvert_exporter": "python",
   "pygments_lexer": "ipython3",
   "version": "3.10.6"
  }
 },
 "nbformat": 4,
 "nbformat_minor": 1
}
