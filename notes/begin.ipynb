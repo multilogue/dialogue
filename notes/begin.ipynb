{
 "cells": [
  {
   "cell_type": "markdown",
   "source": [
    "# Begin Dialogue"
   ],
   "metadata": {
    "collapsed": false
   }
  },
  {
   "cell_type": "code",
   "execution_count": 1,
   "outputs": [],
   "source": [
    "#Environment and paths.\n",
    "from os.path import dirname\n",
    "import sys\n",
    "from dotenv import load_dotenv, find_dotenv\n",
    "sys.path.append(dirname(find_dotenv()))\n",
    "load_dotenv()\n",
    "import openai\n",
    "from json import loads, dumps"
   ],
   "metadata": {
    "collapsed": false,
    "ExecuteTime": {
     "end_time": "2023-07-02T21:18:44.126594348Z",
     "start_time": "2023-07-02T21:18:44.125763704Z"
    }
   }
  },
  {
   "cell_type": "code",
   "execution_count": 3,
   "outputs": [
    {
     "name": "stdout",
     "output_type": "stream",
     "text": [
      "{\n",
      "    \"name\": \"critic\",\n",
      "    \"description\": \"Criticize the logical sentence from all points of view\",\n",
      "    \"parameters\": {\n",
      "        \"type\": \"object\",\n",
      "        \"properties\": {\n",
      "            \"antecedent\": {\n",
      "                \"type\": \"string\",\n",
      "                \"description\": \"A concise logical statement of the problem that can be proven or disproven\"\n",
      "            },\n",
      "            \"consequent\": {\n",
      "                \"type\": \"string\",\n",
      "                \"description\": \"What allegedly follows logically from the antecedent\"\n",
      "            },\n",
      "            \"required\": [\n",
      "                \"antecedent\",\n",
      "                \"consequent\"\n",
      "            ]\n",
      "        }\n",
      "    }\n",
      "}\n",
      "ok\n"
     ]
    }
   ],
   "source": [
    "from functions import critic\n",
    "\n",
    "definition = dumps(critic, indent=2)\n",
    "print(definition)"
   ],
   "metadata": {
    "collapsed": false,
    "ExecuteTime": {
     "end_time": "2023-07-02T21:03:01.647390170Z",
     "start_time": "2023-07-02T21:03:01.645411911Z"
    }
   }
  },
  {
   "cell_type": "code",
   "execution_count": null,
   "metadata": {},
   "outputs": [],
   "source": []
  }
 ],
 "metadata": {
  "kernelspec": {
   "display_name": "Python 3 (ipykernel)",
   "language": "python",
   "name": "python3"
  },
  "language_info": {
   "codemirror_mode": {
    "name": "ipython",
    "version": 3
   },
   "file_extension": ".py",
   "mimetype": "text/x-python",
   "name": "python",
   "nbconvert_exporter": "python",
   "pygments_lexer": "ipython3",
   "version": "3.10.6"
  }
 },
 "nbformat": 4,
 "nbformat_minor": 1
}
