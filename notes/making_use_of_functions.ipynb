{
 "cells": [
  {
   "cell_type": "markdown",
   "metadata": {},
   "source": [
    "# How to use functions"
   ]
  },
  {
   "cell_type": "code",
   "execution_count": 1,
   "metadata": {
    "ExecuteTime": {
     "end_time": "2023-07-02T20:46:30.759660011Z",
     "start_time": "2023-07-02T20:46:30.609381451Z"
    }
   },
   "outputs": [],
   "source": [
    "from dotenv import load_dotenv\n",
    "load_dotenv()\n",
    "# Define the environement variable OPENAI_API_KEY or OPENAI_API_KEY_PATH;\n",
    "# OPENAI_ORGANIZATION can be set too... or not.\n",
    "import openai"
   ]
  },
  {
   "cell_type": "markdown",
   "metadata": {},
   "source": [
    "## Conversation"
   ]
  },
  {
   "cell_type": "code",
   "execution_count": 1,
   "metadata": {
    "ExecuteTime": {
     "end_time": "2023-07-02T20:55:09.107216821Z",
     "start_time": "2023-07-02T20:55:09.105732220Z"
    }
   },
   "outputs": [],
   "source": [
    "metacontext = dict(\n",
    "    world       = \"\"\"the general state of affairs and knowledge available in the world before the cutoff date\"\"\",\n",
    "    system      = \"\"\"the AI language model itself, known as ChatGPT\"\"\",\n",
    "    user        = \"\"\"the entity that engages in a conversation with the AI model; it initiates the conversation, asks questions, provides information, and guides the direction of the interaction; user can have a name, then she or he should be addressed by that name\"\"\",\n",
    "    function    = \"\"\"one of the functions described in the current call of the system; has name and parameters\"\"\",\n",
    "    name        = \"\"\"the name of the function or user, participating in the interaction\"\"\"\n",
    ")"
   ]
  },
  {
   "cell_type": "code",
   "execution_count": 2,
   "metadata": {
    "ExecuteTime": {
     "end_time": "2023-07-02T20:55:51.312923181Z",
     "start_time": "2023-07-02T20:55:51.272366132Z"
    }
   },
   "outputs": [],
   "source": [
    "subject = dict(\n",
    "\n",
    ")"
   ]
  }
 ],
 "metadata": {
  "kernelspec": {
   "display_name": "Python 3 (ipykernel)",
   "language": "python",
   "name": "python3"
  },
  "language_info": {
   "codemirror_mode": {
    "name": "ipython",
    "version": 3
   },
   "file_extension": ".py",
   "mimetype": "text/x-python",
   "name": "python",
   "nbconvert_exporter": "python",
   "pygments_lexer": "ipython3",
   "version": "3.10.6"
  }
 },
 "nbformat": 4,
 "nbformat_minor": 1
}
