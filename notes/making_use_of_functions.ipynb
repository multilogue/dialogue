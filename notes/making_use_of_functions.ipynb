{
 "cells": [
  {
   "cell_type": "markdown",
   "source": [
    "# How to use functions"
   ],
   "metadata": {
    "collapsed": false
   }
  },
  {
   "cell_type": "code",
   "execution_count": null,
   "outputs": [],
   "source": [
    "from dotenv import load_dotenv\n",
    "load_dotenv()\n",
    "# OPENAI_API_KEY or OPENAI_API_KEY_PATH,\n",
    "# OPENAI_ORGANIZATION can be set... or not.\n",
    "import openai"
   ],
   "metadata": {
    "collapsed": false,
    "is_executing": true
   }
  },
  {
   "cell_type": "markdown",
   "source": [
    "## Conversation"
   ],
   "metadata": {
    "collapsed": false
   }
  },
  {
   "cell_type": "code",
   "execution_count": null,
   "outputs": [],
   "source": [
    "context = dict(\n",
    "    world = \"\"\"the general state of affairs and knowledge available in the world before the cutoff date\"\"\",\n",
    "    system = \"\"\"the AI language model itself, known as ChatGPT\"\"\",\n",
    "    user = \"\"\"the entity that engages in a conversation with the AI model; it initiates the conversation, asks questions, provides information, and guides the direction of the interaction\"\"\",\n",
    "    function = \"\"\"one of the functions described in the current call of the system\"\"\",\n",
    "    name = \"\"\"the name of the function or user, participating in the interaction\"\"\"\n",
    ")"
   ],
   "metadata": {
    "collapsed": false
   }
  }
 ],
 "metadata": {
  "kernelspec": {
   "display_name": "Python 3",
   "language": "python",
   "name": "python3"
  },
  "language_info": {
   "codemirror_mode": {
    "name": "ipython",
    "version": 2
   },
   "file_extension": ".py",
   "mimetype": "text/x-python",
   "name": "python",
   "nbconvert_exporter": "python",
   "pygments_lexer": "ipython2",
   "version": "2.7.6"
  }
 },
 "nbformat": 4,
 "nbformat_minor": 0
}
